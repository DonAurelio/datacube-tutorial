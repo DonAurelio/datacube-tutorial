{
 "cells": [
  {
   "cell_type": "markdown",
   "metadata": {},
   "source": [
    "# Sentinel 2 - Image Indexing\n",
    "\n",
    "Image indexing consists of telling the data cube where we have images in our file system. On this section we will index Sentinel 2 images.\n",
    "\n",
    "Images are indexed into the data cube in order that we can access access images' data through the data cube Python API. An image must be prepared to be indexed in the data cube, so we require a preparation script called **Metadata Generation Script** in the open datacube jargon.\n",
    "\n",
    "* **Metadata Generation Script (.py):** This script is used to generate a metadata file for a given scene. This metadata is used by the datacube to create indexes that easy scene data retrieval.\n",
    "\n",
    "**Content**\n",
    "\n",
    "1. Donwload Sentinel 2 images\n",
    "2. Unzip the images\n",
    "3. Generate the image metadata\n",
    "4. Add the image to the datacube index"
   ]
  },
  {
   "cell_type": "markdown",
   "metadata": {},
   "source": [
    "## 1. Donwload Sentinel 2 images"
   ]
  },
  {
   "cell_type": "markdown",
   "metadata": {},
   "source": [
    "You can download the Sentinel 2 Images used on this notebook for [here](https://drive.google.com/drive/folders/1eNWlKCcia3FsnhFA7k61m3pnkFp3OiF6?usp=sharing). To keep our scenes organized, we will place the downloaded Sentinel 2 images on the following directory `/vagrant/indexed_storage/S2_MSI_L2A/`."
   ]
  },
  {
   "cell_type": "markdown",
   "metadata": {},
   "source": [
    "## 2. Unzip the images"
   ]
  },
  {
   "cell_type": "markdown",
   "metadata": {},
   "source": [
    "Verify that the scene you downloaded earlier is in the `/vagrant/indexed_storage/S2_MSI_L2A/` directory"
   ]
  },
  {
   "cell_type": "code",
   "execution_count": 1,
   "metadata": {},
   "outputs": [
    {
     "name": "stdout",
     "output_type": "stream",
     "text": [
      "S2A_MSIL2A_20210130T151701_N0214_R125_T18NYM_20210130T174015.SAFE\n",
      "S2A_MSIL2A_20210130T151701_N0214_R125_T18NYM_20210130T174015.zip\n",
      "S2B_MSIL2A_20210115T151709_N0214_R125_T18NYM_20210115T174459.zip\n",
      "sen2cor_ard.yaml\n",
      "sen2cor_prepare.py\n"
     ]
    }
   ],
   "source": [
    "!ls /vagrant/indexed_storage/S2_MSI_L2A"
   ]
  },
  {
   "cell_type": "markdown",
   "metadata": {},
   "source": [
    "Select one of the .zip files you have downloaded and set `image_file_name` with the image identifier as shown in the example below."
   ]
  },
  {
   "cell_type": "code",
   "execution_count": 2,
   "metadata": {},
   "outputs": [],
   "source": [
    "# Set image_file_name with the image identifier (do not use the .zip extension)\n",
    "image_file_name = 'S2B_MSIL2A_20210115T151709_N0214_R125_T18NYM_20210115T174459'"
   ]
  },
  {
   "cell_type": "markdown",
   "metadata": {},
   "source": [
    "**Unzip the selected image in the `/vagrant/indexed_storage/S2_MSI_L2A/` directory**"
   ]
  },
  {
   "cell_type": "code",
   "execution_count": 3,
   "metadata": {},
   "outputs": [],
   "source": [
    "image_zip_path = f'/vagrant/indexed_storage/S2_MSI_L2A/{image_file_name}.zip'\n",
    "image_dst_path = '/vagrant/indexed_storage/S2_MSI_L2A/'\n",
    "\n",
    "!unzip -q $image_zip_path -d $image_dst_path"
   ]
  },
  {
   "cell_type": "markdown",
   "metadata": {},
   "source": [
    "## 3. Generate the image metadata"
   ]
  },
  {
   "cell_type": "markdown",
   "metadata": {},
   "source": [
    "Generate the metadata for the selected image. Use the `/vagrant/indexed_storage/S2_MSI_L2A/sen2cor_prepare.py` metadata preparation script. "
   ]
  },
  {
   "cell_type": "code",
   "execution_count": 4,
   "metadata": {},
   "outputs": [
    {
     "name": "stdout",
     "output_type": "stream",
     "text": [
      "2021-04-17 21:38:38,350 INFO Processing /vagrant/indexed_storage/S2_MSI_L2A/S2B_MSIL2A_20210115T151709_N0214_R125_T18NYM_20210115T174459.SAFE/MTD_MSIL2A.xml\n",
      "Level-2A S2MSI2A 2021-01-15T17:44:59.000000Z\n",
      "2021-04-17 21:38:38,478 INFO Writing 1 dataset(s) into /vagrant/indexed_storage/S2_MSI_L2A/S2B_MSIL2A_20210115T151709_N0214_R125_T18NYM_20210115T174459.SAFE/S2B_MSIL2A_20210115T151709_N0214_R125_T18NYM_20210115T174459.SAFE.yaml\n"
     ]
    }
   ],
   "source": [
    "metadata_prepare_script_file_path = '/vagrant/indexed_storage/S2_MSI_L2A/sen2cor_prepare.py'\n",
    "unziped_image_path = f'/vagrant/indexed_storage/S2_MSI_L2A/{image_file_name}.SAFE'\n",
    "metadata_dst_file_path = f'/vagrant/indexed_storage/S2_MSI_L2A/{image_file_name}.SAFE'\n",
    "\n",
    "!python3 $metadata_prepare_script_file_path  $unziped_image_path --output $metadata_dst_file_path"
   ]
  },
  {
   "cell_type": "markdown",
   "metadata": {},
   "source": [
    "Check if the metadata file **.SAFE.yaml** was generated into the image directory."
   ]
  },
  {
   "cell_type": "code",
   "execution_count": 5,
   "metadata": {},
   "outputs": [
    {
     "name": "stdout",
     "output_type": "stream",
     "text": [
      "total 176\n",
      "drwxrwxrwx 1 1000 1000     0 Jan 15 20:42 AUX_DATA\n",
      "drwxrwxrwx 1 1000 1000     0 Jan 15 20:42 DATASTRIP\n",
      "drwxrwxrwx 1 1000 1000     0 Jan 15 20:42 GRANULE\n",
      "drwxrwxrwx 1 1000 1000  4096 Jan 15 20:42 HTML\n",
      "-rwxrwxrwx 1 1000 1000 18601 Jan 15 20:42 INSPIRE.xml\n",
      "-rwxrwxrwx 1 1000 1000 52630 Jan 15 20:42 MTD_MSIL2A.xml\n",
      "-rwxrwxrwx 1 1000 1000  3776 Apr 17  2021 S2B_MSIL2A_20210115T151709_N0214_R125_T18NYM_20210115T174459.SAFE.yaml\n",
      "-rwxrwxrwx 1 1000 1000 91676 Jan 15 20:42 manifest.safe\n",
      "drwxrwxrwx 1 1000 1000  4096 Jan 15 20:42 rep_info\n"
     ]
    }
   ],
   "source": [
    "!ls -l $unziped_image_path"
   ]
  },
  {
   "cell_type": "markdown",
   "metadata": {},
   "source": [
    "## 4. Add the image to the datacube index"
   ]
  },
  {
   "cell_type": "markdown",
   "metadata": {},
   "source": [
    "Now our dataset is ready for indexation. Use the following command to index your image (also know as dataset) into the datacube."
   ]
  },
  {
   "cell_type": "code",
   "execution_count": 6,
   "metadata": {},
   "outputs": [],
   "source": [
    "image_metadata_file_path = f'/vagrant/indexed_storage/S2_MSI_L2A/{image_file_name}.SAFE/{image_file_name}.SAFE.yaml'\n",
    "\n",
    "!datacube dataset add $image_metadata_file_path"
   ]
  },
  {
   "cell_type": "markdown",
   "metadata": {},
   "source": [
    "Check the new data have been indexed."
   ]
  },
  {
   "cell_type": "code",
   "execution_count": 7,
   "metadata": {},
   "outputs": [
    {
     "name": "stdout",
     "output_type": "stream",
     "text": [
      "id: d369a421-f5a6-4586-986a-91a4a032e843\n",
      "product: s2_sen2cor_ard_granule_EO3\n",
      "status: active\n",
      "locations:\n",
      "- file:///vagrant/indexed_storage/S2_MSI_L2A/S2A_MSIL2A_20210130T151701_N0214_R125_T18NYM_20210130T174015.SAFE/S2A_MSIL2A_20210130T151701_N0214_R125_T18NYM_20210130T174015.SAFE.yaml\n",
      "fields:\n",
      "    creation_time: null\n",
      "    dataset_maturity: final\n",
      "    format: JPEG2000\n",
      "    instrument: MSI\n",
      "    label: null\n",
      "    lat: {begin: 5.3333943012481395, end: 6.329895366800824}\n",
      "    lon: {begin: -73.19553295981784, end: -72.20042267994468}\n",
      "    platform: Sentinel-2A\n",
      "    product_family: ard\n",
      "    region_code: null\n",
      "    time: {begin: '2021-01-30T17:40:15+00:00', end: '2021-01-30T17:40:15+00:00'}\n",
      "---\n",
      "id: 27e9923c-71de-4ae0-8197-a56b2a3cc032\n",
      "product: s2_sen2cor_ard_granule_EO3\n",
      "status: active\n",
      "locations:\n",
      "- file:///vagrant/indexed_storage/S2_MSI_L2A/S2B_MSIL2A_20210115T151709_N0214_R125_T18NYM_20210115T174459.SAFE/S2B_MSIL2A_20210115T151709_N0214_R125_T18NYM_20210115T174459.SAFE.yaml\n",
      "fields:\n",
      "    creation_time: null\n",
      "    dataset_maturity: final\n",
      "    format: JPEG2000\n",
      "    instrument: MSI\n",
      "    label: null\n",
      "    lat: {begin: 5.3333943012481395, end: 6.329895366800824}\n",
      "    lon: {begin: -73.19553295981784, end: -72.20042267994468}\n",
      "    platform: Sentinel-2A\n",
      "    product_family: ard\n",
      "    region_code: null\n",
      "    time: {begin: '2021-01-15T17:44:59+00:00', end: '2021-01-15T17:44:59+00:00'}\n"
     ]
    }
   ],
   "source": [
    "!datacube dataset search"
   ]
  },
  {
   "cell_type": "markdown",
   "metadata": {},
   "source": [
    "### References\n",
    "\n",
    "1. [Indexing Data](https://datacube-core.readthedocs.io/en/latest/ops/indexing.html#indexing-data)"
   ]
  }
 ],
 "metadata": {
  "kernelspec": {
   "display_name": "Python 3",
   "language": "python",
   "name": "python3"
  },
  "language_info": {
   "codemirror_mode": {
    "name": "ipython",
    "version": 3
   },
   "file_extension": ".py",
   "mimetype": "text/x-python",
   "name": "python",
   "nbconvert_exporter": "python",
   "pygments_lexer": "ipython3",
   "version": "3.8.5"
  }
 },
 "nbformat": 4,
 "nbformat_minor": 4
}

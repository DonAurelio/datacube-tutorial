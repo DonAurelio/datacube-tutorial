{
 "cells": [
  {
   "cell_type": "markdown",
   "metadata": {},
   "source": [
    "<img src=\"https://raw.githubusercontent.com/DonAurelio/open-datacube-bac-training/main/docs/banner.png\" alt=\"Deparatemento de Ingeniería de Sistemas y Computación, Universidad de los Andes\">"
   ]
  },
  {
   "cell_type": "markdown",
   "metadata": {},
   "source": [
    "# Introducción a Numpy\n",
    "\n",
    "**Introducción**\n",
    "\n",
    "NumPy es una librería (o módulo) para el lenguaje de programación Python que permite acceder a funciones y estructuras de datos **optimizadas para el procesamiento de vectores y matrices**, junto con una gran colección de funciones matemáticas de alto nivel para operar en estos tipos de datos. Más información acerca de esta librería puedes ser encontrada [aquí](https://en.wikipedia.org/wiki/NumPy). \n",
    "\n",
    "La información de imágenes satelitales es almacenada en matrices multidimensionales de máximo 3 dimensiones (latitud, longitud y tiempo) cada una. En este notebook hacemos una breve introducción al entendimiento y manipulación de matrices multidimensionales.\n",
    "\n",
    "**Contenido**\n",
    "\n",
    "1. [Importar la librería `numpy`](#1.-Importar-la-librería-numpy)\n",
    "2. [Arreglos](#2.-Arreglos)."
   ]
  },
  {
   "cell_type": "markdown",
   "metadata": {},
   "source": [
    "## 1. Importar la librería numpy\n",
    "\n",
    "Para poder hacer uso de la bondades que brinda de la librería `numpy` debemos importarla usando la palabra especial `import`. \n",
    "\n",
    "**NOTA:** Además de `numpy`, `import` permite importar otro tipo de librerías como `panda` y `sklearn` que permiten  realizar ciencia de datos y inteligencia artificial respectivamente."
   ]
  },
  {
   "cell_type": "code",
   "execution_count": 5,
   "metadata": {},
   "outputs": [],
   "source": [
    "import numpy"
   ]
  },
  {
   "cell_type": "markdown",
   "metadata": {},
   "source": [
    "Otra alternativa para importar una librería es usar el operador `as` para hacer un renombramiento. De esta forma, cada que desee usar algúna funcionalidad de la librería `numpy`, puedo referirme en su lugar a `np`"
   ]
  },
  {
   "cell_type": "code",
   "execution_count": 8,
   "metadata": {},
   "outputs": [],
   "source": [
    "import numpy as np"
   ]
  },
  {
   "cell_type": "markdown",
   "metadata": {},
   "source": [
    "Ahora podemos acceder a todas las funcionalidades de la librería numpy usando `numpy.name_of_function`. Donde `name_of_function` es una de las funciones definidas en la librería `numpy`. Por ejemplo, usando la funcionalidad `__version__` podemos ver qué versión de la librería se encuentra cargada."
   ]
  },
  {
   "cell_type": "code",
   "execution_count": 10,
   "metadata": {},
   "outputs": [
    {
     "data": {
      "text/plain": [
       "'1.19.4'"
      ]
     },
     "execution_count": 10,
     "metadata": {},
     "output_type": "execute_result"
    }
   ],
   "source": [
    "np.__version__"
   ]
  },
  {
   "cell_type": "markdown",
   "metadata": {},
   "source": [
    "## 2. Arreglos\n",
    "\n",
    "Los arreglos son colecciones de datos que pueden ser organizados en una o varias dimensiones. Por ejemplo, la información de imágenes satelitales se organiza en arreglos de 3 dimensiones: tiempo, longitud y latitud. La imagen que se muestra a continuación describe las caracterśiticas de los arreglos de 1, 2 y 3 dimensiones.\n",
    "\n",
    "<img src=\"https://raw.githubusercontent.com/DonAurelio/open-datacube-bac-training/main/docs/numpy_array_shape.png\" alt=\"xarray.Dataset\" width=\"60%\">"
   ]
  },
  {
   "cell_type": "markdown",
   "metadata": {},
   "source": [
    "### Definición de arreglos"
   ]
  },
  {
   "cell_type": "markdown",
   "metadata": {},
   "source": [
    "Para crear un arreglo, usamos la funcionalidad `array` de la librería `numpy` como se muestra a continuación."
   ]
  },
  {
   "cell_type": "code",
   "execution_count": 28,
   "metadata": {},
   "outputs": [
    {
     "data": {
      "text/plain": [
       "array([1, 2, 3, 4])"
      ]
     },
     "execution_count": 28,
     "metadata": {},
     "output_type": "execute_result"
    }
   ],
   "source": [
    "array_1d = np.array([1,2,3,4])\n",
    "array_1d"
   ]
  },
  {
   "cell_type": "markdown",
   "metadata": {},
   "source": [
    "Los arreglos tienen la propiedad `shape` que permite validar cómo están organizados los datos en el arreglo. Es decir, permite ver sus dimensiones."
   ]
  },
  {
   "cell_type": "code",
   "execution_count": 20,
   "metadata": {},
   "outputs": [
    {
     "data": {
      "text/plain": [
       "(10,)"
      ]
     },
     "execution_count": 20,
     "metadata": {},
     "output_type": "execute_result"
    }
   ],
   "source": [
    "# Arreglo de 1 dimensión con 10 elementos\n",
    "array_1d.shape"
   ]
  },
  {
   "cell_type": "markdown",
   "metadata": {},
   "source": [
    "Ejemplo de un arreglo de 2 dimensiones"
   ]
  },
  {
   "cell_type": "code",
   "execution_count": 25,
   "metadata": {},
   "outputs": [
    {
     "data": {
      "text/plain": [
       "array([[1, 2, 3, 4],\n",
       "       [1, 2, 3, 4],\n",
       "       [1, 2, 3, 4]])"
      ]
     },
     "execution_count": 25,
     "metadata": {},
     "output_type": "execute_result"
    }
   ],
   "source": [
    "# Arreglo de 2 dimensiones con 3 files y 4 columnas\n",
    "array_2d = np.array(\n",
    "    [[1,2,3,4],\n",
    "     [1,2,3,4],\n",
    "     [1,2,3,4]]\n",
    ")\n",
    "\n",
    "array_2d"
   ]
  },
  {
   "cell_type": "markdown",
   "metadata": {},
   "source": [
    "Para validar la forma del arreglo de dos dimensiones usamos la propiedad `shape`"
   ]
  },
  {
   "cell_type": "code",
   "execution_count": 26,
   "metadata": {},
   "outputs": [
    {
     "data": {
      "text/plain": [
       "(3, 4)"
      ]
     },
     "execution_count": 26,
     "metadata": {},
     "output_type": "execute_result"
    }
   ],
   "source": [
    "array_2d.shape"
   ]
  },
  {
   "cell_type": "markdown",
   "metadata": {},
   "source": [
    "Ejemplo de un arreglo de 3 dimensiones"
   ]
  },
  {
   "cell_type": "code",
   "execution_count": 27,
   "metadata": {},
   "outputs": [
    {
     "data": {
      "text/plain": [
       "array([[[1, 2, 3, 4],\n",
       "        [1, 2, 3, 4],\n",
       "        [1, 2, 3, 4]],\n",
       "\n",
       "       [[5, 6, 7, 8],\n",
       "        [5, 6, 7, 8],\n",
       "        [5, 6, 7, 8]]])"
      ]
     },
     "execution_count": 27,
     "metadata": {},
     "output_type": "execute_result"
    }
   ],
   "source": [
    "array_3d = np.array(\n",
    "    [[[1,2,3,4],\n",
    "      [1,2,3,4],\n",
    "      [1,2,3,4]],\n",
    "         \n",
    "     [[5,6,7,8],\n",
    "      [5,6,7,8],\n",
    "      [5,6,7,8]]]\n",
    ")\n",
    "\n",
    "array_3d"
   ]
  },
  {
   "cell_type": "markdown",
   "metadata": {},
   "source": [
    "Para validar la forma del arreglo de tres dimensiones usamos la propiedad `shape`"
   ]
  },
  {
   "cell_type": "code",
   "execution_count": 19,
   "metadata": {},
   "outputs": [
    {
     "data": {
      "text/plain": [
       "(2, 3, 4)"
      ]
     },
     "execution_count": 19,
     "metadata": {},
     "output_type": "execute_result"
    }
   ],
   "source": [
    "array_3d.shape"
   ]
  },
  {
   "cell_type": "markdown",
   "metadata": {},
   "source": [
    "### Operaciones aritméticas\n",
    "\n",
    "Los arreglos creados con la librería numpy soportan una gran variedad de operaciones aritméticas. A continuación se muestra algúnas de estas operaciones. Los operaciones son realizadas elemento por elemento.\n",
    "\n",
    "| Operador | Descripción     | Ejemplo  |\n",
    "|----------|-----------------|----------|\n",
    "| +        | Suma            | a + b    |\n",
    "| -        | Resta           | a - b    |\n",
    "| -        | Negación        | -a       |\n",
    "| *        | Multiplicación  | a * b    |\n",
    "| **       | Exponente       | a ** 2   |\n",
    "| /        | División        | a / b    |\n",
    "| //       | División entera | a // b   |\n",
    "| %        | Módulo          | a % b    |"
   ]
  },
  {
   "cell_type": "markdown",
   "metadata": {},
   "source": [
    "Ejemplos arreglos `a` y `b` "
   ]
  },
  {
   "cell_type": "code",
   "execution_count": 38,
   "metadata": {},
   "outputs": [
    {
     "name": "stdout",
     "output_type": "stream",
     "text": [
      "Areglo a\n",
      "[[1 2 3]\n",
      " [4 5 6]\n",
      " [7 8 9]]\n",
      "Areglo b\n",
      "[[1 2 3]\n",
      " [4 5 6]\n",
      " [7 8 9]]\n"
     ]
    }
   ],
   "source": [
    "a = np.array(\n",
    "    [[1,2,3],\n",
    "     [4,5,6],\n",
    "     [7,8,9]]\n",
    ")\n",
    "\n",
    "b = np.array(\n",
    "    [[1,2,3],\n",
    "     [4,5,6],\n",
    "     [7,8,9]]\n",
    ")\n",
    "\n",
    "print('Areglo a')\n",
    "print(a)\n",
    "print('Areglo b')\n",
    "print(b)"
   ]
  },
  {
   "cell_type": "markdown",
   "metadata": {},
   "source": [
    "Ejemplo operación de suma (`+`)"
   ]
  },
  {
   "cell_type": "code",
   "execution_count": 49,
   "metadata": {},
   "outputs": [
    {
     "data": {
      "text/plain": [
       "array([[0, 0, 0],\n",
       "       [0, 0, 0],\n",
       "       [0, 0, 0]])"
      ]
     },
     "execution_count": 49,
     "metadata": {},
     "output_type": "execute_result"
    }
   ],
   "source": [
    "# Suma de dos matrices.\n",
    "a % b"
   ]
  },
  {
   "cell_type": "markdown",
   "metadata": {},
   "source": [
    "> **TODO:**  Realice los ejemplos de los operadores resta (`-`), multiplicación (`*`), exponente (`**`), división (`/`), división entera (`//`) y módulo (`%`) usando las matrices `a` y `b` definidas. Cree una nueva celda para cada ejemplo. Puede apoyarse en cualquiera de los ejemplo mostrados arriba."
   ]
  },
  {
   "cell_type": "markdown",
   "metadata": {},
   "source": [
    "### Otras operaciones\n",
    "\n",
    "Los arreglos creados en base a la librería `numpy` presentan una serie de funciones (operaciones) que permiten reducir la información contenida en los arreglos. Los operaciones básicas generan una estadística sobre todos los datos del arreglo (Ejemplo 1). Por otro lado, es posible indicar si el cálculo se desea realizar a lo largo de un eje (`axis`) en arreglos multi-dimensionales (Ejemplo 2).\n",
    "\n",
    "| Operador | Descripción            | Ejemplo 1 |    Ejemplo 2   | \n",
    "|----------|------------------------|-----------|----------------|\n",
    "| mean     | Promedio               | a.mean()  | a.mean(axis=0) |\n",
    "| std      | Desvisación estándar   | a.std()   | a.std(axis=0)  |\n",
    "| sum      | Suma                   | a.sum()   | a.sum(axis=0)  |"
   ]
  },
  {
   "cell_type": "markdown",
   "metadata": {},
   "source": [
    "Ejemplo operación (`sum`)"
   ]
  },
  {
   "cell_type": "code",
   "execution_count": 57,
   "metadata": {},
   "outputs": [
    {
     "data": {
      "text/plain": [
       "45"
      ]
     },
     "execution_count": 57,
     "metadata": {},
     "output_type": "execute_result"
    }
   ],
   "source": [
    "a.sum()"
   ]
  },
  {
   "cell_type": "code",
   "execution_count": 55,
   "metadata": {},
   "outputs": [
    {
     "data": {
      "text/plain": [
       "array([12, 15, 18])"
      ]
     },
     "execution_count": 55,
     "metadata": {},
     "output_type": "execute_result"
    }
   ],
   "source": [
    "a.sum(axis=0)"
   ]
  },
  {
   "cell_type": "markdown",
   "metadata": {},
   "source": [
    "> **TODO:**  Realice los ejemplos (Ejemplo 1 y Ejemplo 2) de los operadores desviación estandar (`std`) y promedio (`mean`). Cree una nueva celda para cada ejemplo. Puede apoyarse en cualquiera de los ejemplo mostrados arriba."
   ]
  }
 ],
 "metadata": {
  "kernelspec": {
   "display_name": "Python 3",
   "language": "python",
   "name": "python3"
  },
  "language_info": {
   "codemirror_mode": {
    "name": "ipython",
    "version": 3
   },
   "file_extension": ".py",
   "mimetype": "text/x-python",
   "name": "python",
   "nbconvert_exporter": "python",
   "pygments_lexer": "ipython3",
   "version": "3.8.5"
  }
 },
 "nbformat": 4,
 "nbformat_minor": 4
}

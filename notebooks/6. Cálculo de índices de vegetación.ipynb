{
 "cells": [
  {
   "cell_type": "markdown",
   "metadata": {},
   "source": [
    "<img src=\"https://raw.githubusercontent.com/DonAurelio/open-datacube-bac-training/main/docs/banner.png\" alt=\"Deparatemento de Ingeniería de Sistemas y Computación, Universidad de los Andes\">"
   ]
  },
  {
   "cell_type": "markdown",
   "metadata": {},
   "source": [
    "#  Aplicación de algoritmos para  el análisis de coberturas\n",
    "\n",
    "**Introducción**\n",
    "\n",
    "La teledetección es el proceso de **detectar** y **monitorear** las características físicas, químicas y biológicas de la cobertura terrestre. Estas caracteristicas pueden ser estudiadas mediante el análisis de la radiación reflejada y emitida a distancia por los diferentes tipos de coberturas que reposan sobre la superficie terrestre. En el presente notebook se muestran algúnos algoritmos (índices de vegetación) empleados de forma recurrente en la literatura para el estudio de cultivos. Así mismo se muestran algoritmos que permiten mitigar el efecto de las nuebes que producen valores inválidos para el análisis de un cultivo. Luego de realizar un análisis de las covertura terrestre con estos índices, se exportan los resultados de los análisis en formatos conocidos para su exploración en herramientas GIS como ArcGIS.\n",
    "\n",
    "**Objetivo**\n",
    "\n",
    "Familiarizarse con el proceso de análisis de imágenes satelitales usando el cubo de datos.\n",
    "\n",
    "**Contenido**\n",
    "\n",
    "1. Importar librerías\n",
    "2. Consulta del área de estudio\n",
    "3. Cálculo de índices de vegetación\n",
    "4. Guardar resultados de análisis en fortamto netcdf\n",
    "5. Guardar resultados de análisis en formato geotiff"
   ]
  },
  {
   "cell_type": "markdown",
   "metadata": {},
   "source": [
    "## 1. Importar librerías\n",
    "\n",
    "___\n",
    "\n",
    "En esta sección se importan las librerías cuya funicionalidades particulares son requeridas."
   ]
  },
  {
   "cell_type": "code",
   "execution_count": null,
   "metadata": {},
   "outputs": [],
   "source": [
    "# las funcionalidades del open data cube son accedidas \n",
    "# por medio de la librería datacube\n",
    "import datacube\n",
    "\n",
    "# Manipulación de datasets\n",
    "import xarray as xr\n",
    "\n",
    "# Manipulación de datos raster\n",
    "import rasterio\n",
    "\n",
    "# Librería usada para la carga de polígonos\n",
    "import geopandas as gpd\n",
    "\n",
    "# Librería usada para visualización de datos\n",
    "import matplotlib as mpl\n",
    "import matplotlib.pyplot as plt\n",
    "\n",
    "# Desactiva los warnings en el notebook\n",
    "import warnings\n",
    "warnings.filterwarnings('ignore')\n",
    "warnings.simplefilter('ignore')\n",
    "\n",
    "# Configuración de Drivers para leer polígonos en formato KMLs\n",
    "gpd.io.file.fiona.drvsupport.supported_drivers['KML'] = 'rw'"
   ]
  },
  {
   "cell_type": "markdown",
   "metadata": {},
   "source": [
    "## 2. Consulta del área de estudio\n",
    "___"
   ]
  },
  {
   "cell_type": "markdown",
   "metadata": {},
   "source": [
    "(Opción 1) Consultar un área a partir de un polígono"
   ]
  },
  {
   "cell_type": "code",
   "execution_count": null,
   "metadata": {},
   "outputs": [],
   "source": [
    "# Carga del archivo .kml\n",
    "df_polygon = gpd.read_file(\"polygon/tota_lake.kml\",driver='KML')\n",
    "df_polygon = df_polygon.to_crs('EPSG:4326')\n",
    "\n",
    "# Pintar el polígono seleccionado\n",
    "fig, ax = plt.subplots(figsize=(5,5))\n",
    "df_polygon.boundary.plot(ax=ax,color='red')\n",
    "\n",
    "# Obtención de la geometría del polígono del GeoDataFrame\n",
    "geometry_predio = df_polygon['geometry'][0]\n",
    "\n",
    "# Obtención de los límites del cuadrado que enmarca el polígono\n",
    "minx, miny, maxx, maxy = geometry_predio.bounds\n",
    "\n",
    "# Aumento del aŕea del cuadrado para \"EPSG:32719\"\n",
    "buffer = 0.001\n",
    "\n",
    "minx = minx - buffer\n",
    "miny = miny - buffer\n",
    "maxx = maxx + buffer\n",
    "maxy = maxy + buffer\n",
    "\n",
    "# Parámetros de área a ser consultada\n",
    "set_study_area_lat = (miny,maxy)\n",
    "set_study_area_lon = (minx,maxx)\n",
    "\n",
    "print(f'    latitude={set_study_area_lat},')\n",
    "print(f'    longitude={set_study_area_lon},')"
   ]
  },
  {
   "cell_type": "markdown",
   "metadata": {},
   "source": [
    "(Opción 2) Consultar un área a partir de un punto\n",
    "\n",
    "Los coordenadas del punto a seleccionar pueden ser obtenidas a travez de herramientas GIS como google maps. Este punto debe estar comprendido en el área que desea estudiar. El punto definido será empleado para la generación de un cuadrado que finálmente será usado para consultar el área de estudio. La variable `buffer` permite ampliar o disminuir las dimensiones del cuadrado. Lo anterior es equivalente a disminuir o ampliar el área de estudio a consultar en el open data cube.\n",
    "\n",
    "<img src=\"https://raw.githubusercontent.com/DonAurelio/open-datacube-bac-training/main/docs/latlong_buffer.png\" alt=\"Definición área de estudio\" width=\"20%\">"
   ]
  },
  {
   "cell_type": "code",
   "execution_count": null,
   "metadata": {},
   "outputs": [],
   "source": [
    "# Definición de las coordenadas del punto\n",
    "central_lat = 5.547964746532565\n",
    "central_lon =  -72.9284962779124\n",
    "\n",
    "# Aumento del aŕea del cuadrado para \"EPSG:4326\"\n",
    "# 11.1 kilómetros\n",
    "buffer = 0.1\n",
    "\n",
    "# Calculo del cuadro delimitador (bounding box) para el área de estudio\n",
    "set_study_area_lat = (central_lat - buffer, central_lat + buffer)\n",
    "set_study_area_lon = (central_lon - buffer, central_lon + buffer)\n",
    "\n",
    "print(f'    latitude={set_study_area_lat},')\n",
    "print(f'    longitude={set_study_area_lon},')"
   ]
  },
  {
   "cell_type": "markdown",
   "metadata": {},
   "source": [
    "Consulta de información sobre el área de interes por medio del open data cube"
   ]
  },
  {
   "cell_type": "code",
   "execution_count": null,
   "metadata": {},
   "outputs": [],
   "source": [
    "dc = datacube.Datacube(app=\"Cana\")\n",
    "\n",
    "dataset = dc.load(\n",
    "    product=\"s2_sen2cor_ard_granule_EO3\",\n",
    "    latitude=(5.447964746532565, 5.647964746532565),\n",
    "    longitude=(-73.0284962779124, -72.82849627791241),\n",
    "    time=('2021-01-01', '2021-02-01'),\n",
    "    measurements=[\"red\",\"blue\",\"green\",\"nir\",\"swir1\",\"swir2\",\"scl\"],\n",
    "    crs=\"EPSG:4326\",\n",
    "    output_crs=\"EPSG:4326\",\n",
    "    resolution=(-0.00008983111,0.00008971023)\n",
    ")\n",
    "\n",
    "dataset"
   ]
  },
  {
   "cell_type": "markdown",
   "metadata": {},
   "source": [
    "En caso de que la consulta arroje como resultado varios periodos de tiempo, el código que se muestra a continuación permite visualizar la imágen en RGB de todos estos periodos."
   ]
  },
  {
   "cell_type": "code",
   "execution_count": null,
   "metadata": {},
   "outputs": [],
   "source": [
    "rgb = dataset[[\"red\",\"green\",\"blue\"]].to_array(dim='color')\n",
    "rgb = rgb.transpose(*(rgb.dims[1:]+rgb.dims[:1]))  # make 'color' the last dimension\n",
    "img = rgb.plot.imshow(col='time',col_wrap=4,add_colorbar=False,vmin=0,vmax=1500)"
   ]
  },
  {
   "cell_type": "markdown",
   "metadata": {},
   "source": [
    "Si desea visualizar un periodo de tiempo en particular puede modificar el valor de la variable  `time_index` entre `0` el `número de periodos de tiempo - 1` que haya retornado como resultado la consulta. Observe que en el código que se muestra a continuación es posible ampliar el tamaño de la figura mostrada usando el parámetro `figsize` que se encuentra en la última linea de la celda `img = rgb.plot.imshow(add_colorbar=False,vmin=0,vmax=1500,figsize=(5,5))`. **NOTA:** entre más grande es la imágen, más tiempo, de procesamiento, se requiere para ser visualizada."
   ]
  },
  {
   "cell_type": "code",
   "execution_count": null,
   "metadata": {},
   "outputs": [],
   "source": [
    "time_index = 0\n",
    "\n",
    "rgb = dataset[[\"red\",\"green\",\"blue\"]].isel(time=time_index).to_array(dim='color')\n",
    "rgb = rgb.transpose(*(rgb.dims[1:]+rgb.dims[:1]))  # make 'color' the last dimension\n",
    "img = rgb.plot.imshow(add_colorbar=False,vmin=0,vmax=1500,figsize=(5,5))"
   ]
  },
  {
   "cell_type": "markdown",
   "metadata": {},
   "source": [
    "## 3. Cálculo de índices de vegetación\n",
    "___\n",
    "Los índices de  vegetación son  el  resultado de  operar  aritméticamente  los  componentes espectrales (bandas) de una imagen satelital. El valor de estos índices, en la mayoría de los  casos, realza  las  propiedades  fenológicas  de  los  cultivos. Ejemplos  de  índices  de vegetación empleados empleados de forma recurrente en la literatura para el análisis de cultivos son: **Normalized Difference Vegetation Index (NDVI)**, y **Enhanced Vegetation Index (EVI)**. Otros índices de vegetación encontrados en la literatura son **Ratio Vegetation Index (RVI)** y **Soil Adjusted Vegetation Index (SAVI)**. Puede encontrar más información sobre índices [aquí](https://www.opendatacube.org/dcal-spectral-products)."
   ]
  },
  {
   "cell_type": "markdown",
   "metadata": {},
   "source": [
    "### Normalized Vegetation Index (NDVI)\n",
    "\n",
    "El  NDVI  es  empleado  para calificar  el  verdor  de  la vegetación  y  es  útil para  evaluar su densidad y salud; para este índice los valores cercanos a `1` corresponden a una vegetación densa, como la  encontrada  en  bosques o  cultivos  en  su  etapa  de  crecimiento  máximo, mientras que  los valores  cercanos  a  `0` representan  zonas  cuya  vegetación  es  escasa. Finalmente, valores negativos cercanos a `-1` representan indicios de agua.\n",
    "\n",
    "La ecuaciónque permite el cálculo deesteíndice se muestra a continuación:\n",
    "\n",
    "`NDVI = (NIR - RED) / (NIR + RED)`"
   ]
  },
  {
   "cell_type": "markdown",
   "metadata": {},
   "source": [
    "**Cálculo del NDVI**\n",
    "\n",
    "El open data cube permite operar la información espectral de una imágen de forma sencilla. De esta forma el cálculo del ndvi se reduce a replicar la formula mostrada anteriormente. Observe que una vez calculado el ndvi, este es agregado al dataset resultado como una variable de datos nueva. "
   ]
  },
  {
   "cell_type": "code",
   "execution_count": null,
   "metadata": {},
   "outputs": [],
   "source": [
    "dataset['ndvi'] = (dataset.nir - dataset.red) / (dataset.nir + dataset.red)\n",
    "dataset"
   ]
  },
  {
   "cell_type": "markdown",
   "metadata": {},
   "source": [
    "Imágen del NDVI calculado empleando la función `plot` simple."
   ]
  },
  {
   "cell_type": "code",
   "execution_count": null,
   "metadata": {},
   "outputs": [],
   "source": [
    "dataset.ndvi.plot(col='time',col_wrap=4)"
   ]
  },
  {
   "cell_type": "markdown",
   "metadata": {},
   "source": [
    "**NOTA:** La imágen anterior parece no reflejar los resultados del ndvi que esperamos. En primera instancia, la barra de colores muestra que el ndvi calculado varia entre `0` y `600`. Pero según la literatura, el cálculo del ndvi entrega valores que varían entre `-1.0` y `1.0`. Por otro lado, la imágen se torna de un único color.\n",
    "\n",
    "Cuando se trata con imágenes satelitales es común encontrar valores de píxeles inválidos, esto es, 1) pixeles con valores que están por fuera del rango válido de valores de las bandas, (2) píxeles que no tienen información, (3) píxeles que presentan nubes poco densas que no son visibles a simple vista o por el nivel de detalle de la imágen se hace imperceptible, entre otros casos. Dado lo anterior, es prudente remover estos píxeles del análisis original para evitar la propagración de uso de valores de píxel invalidos."
   ]
  },
  {
   "cell_type": "markdown",
   "metadata": {},
   "source": [
    "**Enmascaramiento de píxeles inválidos**\n",
    "\n",
    "El enmascarado es el proceso de eliminar o remover información de píxeles no validos de la imágen para evitar propagar el error al hacer cálculos con estos valores. Una forma de enmascarar la imágen es usando los rangos de valores conocidos del ndvi como criterio de aceptación o eliminación de píxeles."
   ]
  },
  {
   "cell_type": "code",
   "execution_count": null,
   "metadata": {},
   "outputs": [],
   "source": [
    "# Generación de máscara que establece que deseamos dejar aquellos píxeles que presentan un ndvi mayor que -1.0\n",
    "mask_lower = dataset.ndvi >= -1.0\n",
    "\n",
    "# Generación de máscara que establece que deseamos dejar aquellos píxeles que son menores que 1.0\n",
    "mask_higher = dataset.ndvi <= 1.0\n",
    "\n",
    "# Aplicamos ambas máscaras sobre todo el dataset\n",
    "masked_dataset = dataset.where(mask_lower & mask_higher)\n",
    "\n",
    "# Imágen del ndvi después de haber removido los valores inválidos para el índice\n",
    "masked_dataset.ndvi.plot(col='time',col_wrap=4)"
   ]
  },
  {
   "cell_type": "markdown",
   "metadata": {},
   "source": [
    "**Definir diferentes colores para rangos establecidos de valores**\n",
    "\n",
    "En algúnos casos se requiere establecer colores específicos para ciertos rangos de valores que permitan distinguir aspectos puntuales de la cobertura estudiada. El código que se muestra a continuación establece colores especificos para rangos definidos de valores del ndvi.\n",
    "\n",
    "Referencia: los colores empleados en al barra de colores fueron tomados de *[A repository of custom scripts that can be used with Sentinel-Hub services](https://custom-scripts.sentinel-hub.com/custom-scripts/sentinel-2/ndvi/)*"
   ]
  },
  {
   "cell_type": "code",
   "execution_count": null,
   "metadata": {},
   "outputs": [],
   "source": [
    "# Definición de colores para cada rango establecido en 'bounds'\n",
    "cmap = mpl.colors.ListedColormap(\n",
    "    [\n",
    "        '#000000', \n",
    "        '#a50026',\n",
    "        '#d73027',\n",
    "        '#f46d43',\n",
    "        '#fdae61',\n",
    "        '#fee08b',\n",
    "        '#ffffbf',\n",
    "        '#d9ef8b',\n",
    "        '#a6d96a',\n",
    "        '#66bd63',\n",
    "        '#1a9850',\n",
    "        '#006837'\n",
    "    ]\n",
    ")\n",
    "\n",
    "# Rangos de valores establecidos\n",
    "bounds = [-1.0, -0.2, 0.0, 0.1, 0.2, 0.3, 0.4, 0.5, 0.6, 0.7, 0.8, 0.9, 1.0]\n",
    "\n",
    "# Genera una capa de normalización de los datos basada en los intérvalos establecidos en 'bounds'\n",
    "norm = mpl.colors.BoundaryNorm(bounds, cmap.N)\n",
    "\n",
    "# Mostrar imágen de la variable de datos ndvi.\n",
    "masked_dataset.ndvi.plot(col='time',col_wrap=4,cmap=cmap,norm=norm)"
   ]
  },
  {
   "cell_type": "markdown",
   "metadata": {},
   "source": [
    "### Enhanced Vegetation Index (EVI)\n",
    "\n",
    "El índice EVI es similar al NDVI; sin embargo, corrige algunas condiciones atmosféricas y es más sensible en áreas con alta densidad de vegetación. La ecuación que describe el cálculo de este índice se muestra a continuación:\n",
    "\n",
    "`2 * ((NIR - RED) / (NIR + 6 * RED - 7.5 * BLUE + 10000))`"
   ]
  },
  {
   "cell_type": "markdown",
   "metadata": {},
   "source": [
    "> **TODO:**  Realice el mismo proceso de análisis del NDVI, pero en este caso para el cálculo del EVI."
   ]
  },
  {
   "cell_type": "markdown",
   "metadata": {},
   "source": [
    "## 4. Guardar resultados de análisis en fortamto netcdf\n",
    "___"
   ]
  },
  {
   "cell_type": "code",
   "execution_count": null,
   "metadata": {},
   "outputs": [],
   "source": [
    "# Selecciono el periodo de tiempo que deseo guardar\n",
    "time_index = 0\n",
    "dataset_to_save = masked_dataset.isel(time=time_index)\n",
    "\n",
    "# Selecciono la banda que deseo guardar\n",
    "ndvi = dataset_to_save.ndvi\n",
    "\n",
    "# Elimino la coordenada 'time' del dataset \n",
    "ndvi = ndvi.drop('time')\n",
    "ndvi"
   ]
  },
  {
   "cell_type": "markdown",
   "metadata": {},
   "source": [
    "Guardar resultados de análisis en un archivo .nc"
   ]
  },
  {
   "cell_type": "code",
   "execution_count": null,
   "metadata": {},
   "outputs": [],
   "source": [
    "ndvi.to_netcdf('ndvi.nc')"
   ]
  },
  {
   "cell_type": "markdown",
   "metadata": {},
   "source": [
    "## 5. Guardar resultados de análisis en formato geotiff\n",
    "___"
   ]
  },
  {
   "cell_type": "markdown",
   "metadata": {},
   "source": [
    "Funciones requeridas para guardar información en geotiff"
   ]
  },
  {
   "cell_type": "code",
   "execution_count": null,
   "metadata": {},
   "outputs": [],
   "source": [
    "\"\"\"\n",
    "Las funciones mostradas a continuación fueron tomadas de \n",
    "https://github.com/ceos-seo/data_cube_notebooks\n",
    "\"\"\"\n",
    "\n",
    "def _get_transform_from_xr(data, x_coord='longitude', y_coord='latitude'):\n",
    "    \"\"\"Create a geotransform from an xarray.Dataset or xarray.DataArray.\n",
    "    \"\"\"\n",
    "\n",
    "    from rasterio.transform import from_bounds\n",
    "    geotransform = from_bounds(data[x_coord][0], data[y_coord][-1],\n",
    "                               data[x_coord][-1], data[y_coord][0],\n",
    "                               len(data[x_coord]), len(data[y_coord]))\n",
    "    return geotransform\n",
    "\n",
    "def write_geotiff_from_xr(tif_path, data, bands=None, no_data=-9999, crs=\"EPSG:4326\",\n",
    "                          x_coord='longitude', y_coord='latitude'):\n",
    "    \"\"\"\n",
    "    NOTE: Instead of this function, please use `import_export.export_xarray_to_geotiff()`.\n",
    "    Export a GeoTIFF from an `xarray.Dataset`.\n",
    "    Parameters\n",
    "    ----------\n",
    "    tif_path: string\n",
    "        The path to write the GeoTIFF file to. You should include the file extension.\n",
    "    data: xarray.Dataset or xarray.DataArray\n",
    "    bands: list of string\n",
    "        The bands to write - in the order they should be written.\n",
    "        Ignored if `data` is an `xarray.DataArray`.\n",
    "    no_data: int\n",
    "        The nodata value.\n",
    "    crs: string\n",
    "        The CRS of the output.\n",
    "    x_coord, y_coord: string\n",
    "        The string names of the x and y dimensions.\n",
    "    \"\"\"\n",
    "    if isinstance(data, xr.DataArray):\n",
    "        height, width = data.sizes[y_coord], data.sizes[x_coord]\n",
    "        count, dtype = 1, data.dtype\n",
    "    else:\n",
    "        if bands is None:\n",
    "            bands = list(data.data_vars.keys())\n",
    "        else:\n",
    "            assrt_msg_begin = \"The `data` parameter is an `xarray.Dataset`. \"\n",
    "            assert isinstance(bands, list), assrt_msg_begin + \"Bands must be a list of strings.\"\n",
    "            assert len(bands) > 0 and isinstance(bands[0], str), assrt_msg_begin + \"You must supply at least one band.\"\n",
    "        height, width = data.dims[y_coord], data.dims[x_coord]\n",
    "        count, dtype = len(bands), data[bands[0]].dtype\n",
    "    with rasterio.open(\n",
    "            tif_path,\n",
    "            'w',\n",
    "            driver='GTiff',\n",
    "            height=height,\n",
    "            width=width,\n",
    "            count=count,\n",
    "            dtype=dtype,\n",
    "            crs=crs,\n",
    "            transform=_get_transform_from_xr(data, x_coord=x_coord, y_coord=y_coord),\n",
    "            nodata=no_data) as dst:\n",
    "        if isinstance(data, xr.DataArray):\n",
    "            dst.write(data.values, 1)\n",
    "        else:\n",
    "            for index, band in enumerate(bands):\n",
    "                dst.write(data[band].values, index + 1)\n",
    "    dst.close()"
   ]
  },
  {
   "cell_type": "markdown",
   "metadata": {},
   "source": [
    "Guardar resultados de análisis en un archivo .tif"
   ]
  },
  {
   "cell_type": "code",
   "execution_count": null,
   "metadata": {},
   "outputs": [],
   "source": [
    "write_geotiff_from_xr(\n",
    "    tif_path='ndvi.tif', \n",
    "    data=ndvi, \n",
    "    bands=['ndvi'], \n",
    "    no_data=-9999, \n",
    "    crs=\"EPSG:4326\",\n",
    "    x_coord='longitude',\n",
    "    y_coord='latitude'\n",
    ")"
   ]
  }
 ],
 "metadata": {
  "kernelspec": {
   "display_name": "Python 3",
   "language": "python",
   "name": "python3"
  },
  "language_info": {
   "codemirror_mode": {
    "name": "ipython",
    "version": 3
   },
   "file_extension": ".py",
   "mimetype": "text/x-python",
   "name": "python",
   "nbconvert_exporter": "python",
   "pygments_lexer": "ipython3",
   "version": "3.8.5"
  }
 },
 "nbformat": 4,
 "nbformat_minor": 4
}

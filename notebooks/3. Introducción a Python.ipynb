{
 "cells": [
  {
   "cell_type": "markdown",
   "metadata": {},
   "source": [
    "<img src=\"img/banner.png\" alt=\"Deparatemento de Ingeniería de Sistemas y Computación, Universidad de los Andes\">"
   ]
  },
  {
   "cell_type": "markdown",
   "metadata": {},
   "source": [
    "# Introducción a Python \n",
    "\n",
    "**Introducción**\n",
    "\n",
    "Python es un lenguaje de programación de propósito general que puede ser usado en variedad de aplicaciones. Python incluye estructuras de datos de alto nivel que permiten construir aplicaciones complejas rápidamente.\n",
    "\n",
    "**Objetivo**\n",
    "\n",
    "El objetivo de este notebook es introducir los elementos fundamentales del lenguaje de programación Python. \n",
    "\n",
    "**Contenido**\n",
    "\n",
    "1. [Sintaxis](#1.-Sintaxis)\n",
    "2. [Variables](#2.-Variables) \n",
    "3. [Variables y tipos de datos](#3.-Variables-y-tipos-de-datos)\n",
    "4. [Condicionales](#4-Condicionales)\n",
    "5. [Ciclos](#5.-Ciclos)\n",
    "6. [Funciones](#6.-Funciones)\n",
    "7. [Módulos](#7.-Módulos)\n",
    "\n",
    "**Referencias**\n",
    "\n",
    "El material mostrado a continuación se basa en extractos de las siguientes fuentes:\n",
    "\n",
    "1. [Python tutorial - w3schools](https://www.w3schools.com/python/)\n",
    "2. [Python tutorial - tutorialspoint](https://www.tutorialspoint.com/python/index.htm)\n",
    "3. [Python para todos - Book](https://www.utic.edu.py/citil/images/Manuales/Python_para_todos.pdf)"
   ]
  },
  {
   "cell_type": "markdown",
   "metadata": {},
   "source": [
    "## 1. Sintaxis\n",
    "\n",
    "___\n",
    "\n",
    "La sintaxis hace referencia a cómo escribir un programa correcto en el lenguaje de programación Python. Así como en los diferentes idiomas existen diferentes reglas que especifican cómo se escribe correctamente una palabra en dicho idioma, los lenguajes de programación también exigen el cumplimiento de estas reglas."
   ]
  },
  {
   "cell_type": "markdown",
   "metadata": {},
   "source": [
    "Ejemplo: \n",
    "* La función `print` permite escribir texto en pantalla como se muestra a continuación.\n",
    "* la almuadilla `#` le indica a Python que deseamos escribir un comentario. Los comentarios son útiles para documentar el código. Los comenarios no serán ejecutados en el notebook."
   ]
  },
  {
   "cell_type": "code",
   "execution_count": null,
   "metadata": {},
   "outputs": [],
   "source": [
    "# la función 'print' permite imprimir en pantalla \n",
    "print('Hello world')"
   ]
  },
  {
   "cell_type": "markdown",
   "metadata": {},
   "source": [
    "Cuando un programa es escrito en Python y no se siguen la reglas de sintaxis, entonces surgen errores como el que se presenta a continuación: `SyntaxError`. Que indica que el programa no está bien escrito.\n",
    "\n",
    "El error de sintaxis ocurre porque la función `print` requiere tanto un parentesis de apertura como uno de cierre."
   ]
  },
  {
   "cell_type": "code",
   "execution_count": null,
   "metadata": {},
   "outputs": [],
   "source": [
    "# la función 'print' permite imprimir en pantalla \n",
    "print('Hello world'"
   ]
  },
  {
   "cell_type": "markdown",
   "metadata": {},
   "source": [
    "## 2. Variables\n",
    "\n",
    "___\n",
    "\n",
    "Las variables nos permiten almacenar valores. Estos valores son usados posteriormente en algún tipo de operación. Una vez una variable es definida, debe asignarse a esta un valor con el operador de asignación (`=`).\n",
    "\n",
    "* El nombre de una variable debe iniciar con una letra o un underscore (`_`).\n",
    "* El nombre de una variable **no puede empezar con un número**.\n",
    "* El nombre de una variable únicamente puede tener caracteres alfanuméricos y undescores (`A-z`, `0-9`, and `_`)\n",
    "* Los nombre de las variables son case-sensitive (`age`, `Age` and `AGE` son tres variables distintas)\n",
    "\n",
    "Los siguientes son nombres de variables válidos. En cada uno de los ejemplos asignamos a las diferentes variables (`myvar`, `my_var`, `_my_var`, `_my_var`, `myVar`, `MYVAR`, `myvar2`) la cadena de texto `\"John\"` "
   ]
  },
  {
   "cell_type": "code",
   "execution_count": null,
   "metadata": {},
   "outputs": [],
   "source": [
    "myvar = \"John\"\n",
    "my_var = \"John\"\n",
    "_my_var = \"John\"\n",
    "myVar = \"John\"\n",
    "MYVAR = \"John\"\n",
    "myvar2 = \"John\""
   ]
  },
  {
   "cell_type": "markdown",
   "metadata": {},
   "source": [
    "El siguiente es un nombre de variable inválido **¿Porqué?**"
   ]
  },
  {
   "cell_type": "code",
   "execution_count": null,
   "metadata": {},
   "outputs": [],
   "source": [
    "#1myvar = 'John'"
   ]
  },
  {
   "cell_type": "markdown",
   "metadata": {},
   "source": [
    "Las siguientes son palabras reservadas del lenguaje que no pueden ser usadas como nombres de variables.\n",
    "\n",
    "`'False', 'None', 'True', 'and', 'as', 'assert', 'break', 'class', 'continue', 'def', 'del', 'elif', 'else', 'except', 'finally', 'for', 'from', 'global', 'if', 'import', 'in', 'is', 'lambda', 'nonlocal', 'not', 'or',\n",
    "'pass', 'raise', 'return', 'try', 'while', 'with', 'yield'`."
   ]
  },
  {
   "cell_type": "markdown",
   "metadata": {},
   "source": [
    "## 3. Variables y tipos de datos\n",
    "\n",
    "___\n",
    "\n",
    "En Python se pueden representar diferentes tipos de datos como: \n",
    "\n",
    "1. **Número**: enteros, reales y complejos.\n",
    "2. **Cadena de texto**\n",
    "3. **Colección:** listas, tuplas y diccionarios\n",
    "4. **Booleano**\n",
    "\n",
    "Así el valor de una variable puede ser únicamente **número**, **cadena de texto**, **booleano** o **colección**."
   ]
  },
  {
   "cell_type": "markdown",
   "metadata": {},
   "source": [
    "### Números\n",
    "\n",
    "En Python se pueden representar números **enteros**, **reales** y **complejos** como se muestra a continuación"
   ]
  },
  {
   "cell_type": "code",
   "execution_count": null,
   "metadata": {},
   "outputs": [],
   "source": [
    "# A la variable 'entero' se le asigna el valor numérico 100.\n",
    "entero = 100\n",
    "\n",
    "# La función 'print' tambien permite imprimir el valor de una variable\n",
    "print(entero)\n",
    "\n",
    "# La función 'type' permite imprimir en pantalla el tipo de dato de la variable.\n",
    "type(entero)"
   ]
  },
  {
   "cell_type": "code",
   "execution_count": null,
   "metadata": {},
   "outputs": [],
   "source": [
    "# A la variable 'real' se le asigna el valor numérico 0.124.\n",
    "real = 0.124\n",
    "\n",
    "# La función 'print' tambien permite imprimir el valor de una variable\n",
    "print(real)\n",
    "\n",
    "# La función 'type' permite imprimir en pantalla el tipo de dato de la variable.\n",
    "type(real)"
   ]
  },
  {
   "cell_type": "code",
   "execution_count": null,
   "metadata": {},
   "outputs": [],
   "source": [
    "# A la variable 'real' se le asigna el valor numérico en notación científica 0.1e-3.\n",
    "real = 0.1e-3\n",
    "\n",
    "# La función 'print' tambien permite imprimir el valor de una variable\n",
    "print(real)\n",
    "\n",
    "\n",
    "# La función 'type' permite imprimir en pantalla el tipo de dato de la variable.\n",
    "type(real)"
   ]
  },
  {
   "cell_type": "code",
   "execution_count": null,
   "metadata": {},
   "outputs": [],
   "source": [
    "# A la variable 'complejo' se le asigna el valor numérico en notación científica 0.1e-3.\n",
    "complejo = 2.1 + 7.8j\n",
    "\n",
    "# La función 'print' tambien permite imprimir el valor de una variable\n",
    "print(complejo)\n",
    "\n",
    "# La función 'type' permite imprimir en pantalla el tipo de dato de la variable.\n",
    "type(complejo)"
   ]
  },
  {
   "cell_type": "markdown",
   "metadata": {},
   "source": [
    "### Operadores aritméticos\n",
    "\n",
    "En el cuadro que se muestra a continuación se describen los operadores arítmeticos básicos disponibles en Python para la operación de números.\n",
    "\n",
    "| Operador | Descripción     | Ejemplo  |\n",
    "|----------|-----------------|----------|\n",
    "| +        | Suma            | 3 + 2    |\n",
    "| -        | Resta           | 4 - 7    |\n",
    "| -        | Negación        | -7       |\n",
    "| *        | Multiplicación  | 2 * 6    |\n",
    "| **       | Exponente       | 2 ** 6   |\n",
    "| /        | División        | 3.5 / 2  |\n",
    "| //       | División entera | 3.5 // 2 |\n",
    "| %        | Módulo          | 7 % 2    |"
   ]
  },
  {
   "cell_type": "markdown",
   "metadata": {},
   "source": [
    "Ejemplo del operador suma (`+`)"
   ]
  },
  {
   "cell_type": "code",
   "execution_count": null,
   "metadata": {},
   "outputs": [],
   "source": [
    "# Ejemplo 1. Operador de suma (sin usar variables)\n",
    "3 + 2"
   ]
  },
  {
   "cell_type": "code",
   "execution_count": null,
   "metadata": {},
   "outputs": [],
   "source": [
    "# Ejemplo 2. Operador de suma (usando variables solo para los operandos)\n",
    "a = 3\n",
    "b = 2\n",
    "a + b "
   ]
  },
  {
   "cell_type": "code",
   "execution_count": null,
   "metadata": {},
   "outputs": [],
   "source": [
    "# Ejemplo 3. Operador de suma (usando una variable por operando y una variable para el resultado)\n",
    "a = 3\n",
    "b = 2\n",
    "r = a + b \n",
    "r"
   ]
  },
  {
   "cell_type": "markdown",
   "metadata": {},
   "source": [
    "> **TODO:**  Realice los ejemplos de los operadores resta (`-`), multiplicación (`*`), exponente (`**`), división (`/`), división entera (`//`), módulo (`%`). Cree una nueva celda para cada ejemplo. Puedes apoyarse en cualquiera de los ejemplo mostrados arriba."
   ]
  },
  {
   "cell_type": "markdown",
   "metadata": {},
   "source": [
    "### Operadores relacionales (comparaciones entre valores)\n",
    "\n",
    "Los operadores relacionales evaluan el valor de verdad de dos expresiones. En el cuadro que se muestra a continuación se describen los operadores relacionales básicos disponibles en Python para la comparación de números.\n",
    "\n",
    "| Operador | Descripción                | Ejemplo |\n",
    "|----------|----------------------------|---------|\n",
    "| ==       | ¿son iguales a y b?        | 5 == 3  |\n",
    "| !=       | ¿son distintos a y b?      | 5 != 3  |\n",
    "| <        | ¿es a menor que b?         | 5 < 3   |\n",
    "| >        | ¿es a mayor que b?         | 5 > 3   |\n",
    "| <=       | ¿es a menor o igual que b? | 5 <= 5  |\n",
    "| >=       | ¿es a mayor o igual que b? | 5 >= 3  |"
   ]
  },
  {
   "cell_type": "markdown",
   "metadata": {},
   "source": [
    "Ejemplo del operador de igualdad (`==`)"
   ]
  },
  {
   "cell_type": "code",
   "execution_count": null,
   "metadata": {},
   "outputs": [],
   "source": [
    "# Ejemplo 1\n",
    "5 == 3"
   ]
  },
  {
   "cell_type": "markdown",
   "metadata": {},
   "source": [
    "> **TODO:**  Realice los ejemplos de los operadores `!=`, `<`, `>`, `<=` y `>=`. Cree una nueva celda para cada ejemplo. Puedes apoyarse en cualquiera de los ejemplo mostrados arriba."
   ]
  },
  {
   "cell_type": "markdown",
   "metadata": {},
   "source": [
    "### Cadenas de texto\n",
    "\n",
    "En Python se pueden representar cadenas de texto empleado comillas dobles (`\"`) o sencillas (`'`). A continuación se muestran dos ejemplos. El primero muestra cómo se representa una cadena de texto que requiere una única linea. El segúndo muestra cómo se representa una cadena de texto que requiere múltiples lineas."
   ]
  },
  {
   "cell_type": "markdown",
   "metadata": {},
   "source": [
    "Cadena de texto de una linea"
   ]
  },
  {
   "cell_type": "code",
   "execution_count": null,
   "metadata": {},
   "outputs": [],
   "source": [
    "# A la variable 'cadena_una_linea' se le asigna el valor 'Esta es una cadena de texto'.\n",
    "cadena_una_linea = 'Esta es una cadena de texto'\n",
    "\n",
    "# La función 'print' tambien permite imprimir el valor de una variable\n",
    "print(cadena_una_linea)\n",
    "\n",
    "# La función 'type' permite imprimir en pantalla el tipo de dato de la variable.\n",
    "type(cadena_una_linea)"
   ]
  },
  {
   "cell_type": "markdown",
   "metadata": {},
   "source": [
    "Cadena de texto de múltiples lineas"
   ]
  },
  {
   "cell_type": "code",
   "execution_count": null,
   "metadata": {},
   "outputs": [],
   "source": [
    "# A la variable 'cadena_multiples_lineas' se le asigna el valor 'Esta es una cadena de texto'.\n",
    "cadena_multiples_lineas = \"\"\"\n",
    "Esta es una cadena que ocupa \n",
    "multiples lineas.\n",
    "\"\"\"\n",
    "\n",
    "# La función 'print' tambien permite imprimir el valor de una variable\n",
    "print(cadena_multiples_lineas)\n",
    "\n",
    "# La función 'type' permite imprimir en pantalla el tipo de dato de la variable.\n",
    "type(cadena_multiples_lineas)"
   ]
  },
  {
   "cell_type": "markdown",
   "metadata": {},
   "source": [
    "### Operadores en cadenas de texto\n",
    "\n",
    "En el cuadro que se muestra a continuación se describen los operadores básicos disponibles en Python para la operación de cadenas de texto.\n",
    "\n",
    "| Operador | Descripción       | Ejemplo                      |\n",
    "|----------|-------------------|------------------------------|\n",
    "| +        | Concatenación     | 'a' + 'b'                    |\n",
    "| *        | Multiplicación    | 'a' * 3                      |\n",
    "| []       | Indexación        | a = 'hola' <br> a[0]         |\n",
    "| [i:j]    | *Slicing*         | a = 'hola mundo' <br> a[1:3] |\n",
    "| [:j]     | *Slicing* parcial | a = 'hola mundo' <br> a[:3]  |\n",
    "| [i:]     | *Slicing* parcial | a = 'hola mundo' <br> a[1:]  |"
   ]
  },
  {
   "cell_type": "markdown",
   "metadata": {},
   "source": [
    "Ejemplo del operador de concatenación (`+`)"
   ]
  },
  {
   "cell_type": "code",
   "execution_count": null,
   "metadata": {},
   "outputs": [],
   "source": [
    "# Ejemplo 1. Operador de concatenación (sin usar variables)\n",
    "'a' + 'b'"
   ]
  },
  {
   "cell_type": "code",
   "execution_count": null,
   "metadata": {},
   "outputs": [],
   "source": [
    "# Ejemplo 2. Operador de concatenación\n",
    "\n",
    "a = 'a'\n",
    "b = 'b'\n",
    "\n",
    "a + b "
   ]
  },
  {
   "cell_type": "code",
   "execution_count": null,
   "metadata": {},
   "outputs": [],
   "source": [
    "# Ejemplo 3. Operador de concatenación\n",
    "\n",
    "a = 'a'\n",
    "b = 'b'\n",
    "\n",
    "r = a + b\n",
    "r"
   ]
  },
  {
   "cell_type": "markdown",
   "metadata": {},
   "source": [
    "> **TODO:**  Realice los ejemplos de los operadores de cadenas multiplicación (`-`), indexación (`[]`), slicing (`[:]`), slicing parcial 1 (`[:j]`) y parcial 2 (`[i:]`). Cree una nueva celda para cada ejemplo. Puedes apoyarse en cualquiera de los ejemplo mostrados arriba."
   ]
  },
  {
   "cell_type": "markdown",
   "metadata": {},
   "source": [
    "### Booleano\n",
    "\n",
    "En un programa una variable puede tomar el valor de verdad Verdadero (`True`) o Falso (`False`) según sea la necesidad del programador. Los booleanos son importantes para la programación de expresiones condicionales y los ciclos."
   ]
  },
  {
   "cell_type": "code",
   "execution_count": null,
   "metadata": {},
   "outputs": [],
   "source": [
    "# A la variable 'booleano' se le asigna el valor de verdad True.\n",
    "booleano = 5 == 5\n",
    "\n",
    "# La función 'print' tambien permite imprimir el valor de una variable\n",
    "print(booleano)\n",
    "\n",
    "# La función 'type' permite imprimir en pantalla el tipo de dato de la variable.\n",
    "type(booleano)"
   ]
  },
  {
   "cell_type": "code",
   "execution_count": null,
   "metadata": {},
   "outputs": [],
   "source": [
    "# A la variable 'booleano' se le asigna el valor False.\n",
    "booleano = 5 != 5\n",
    "\n",
    "# La función 'print' tambien permite imprimir el valor de una variable\n",
    "print(booleano)\n",
    "\n",
    "# La función 'type' permite imprimir en pantalla el tipo de dato de la variable.\n",
    "type(booleano)"
   ]
  },
  {
   "cell_type": "markdown",
   "metadata": {},
   "source": [
    "### Colecciones\n",
    "\n",
    "Las coleciones en Python permiten agrupar información que eventualmente es usada para un propósito particular (por ejemplo: ordenamiento, almacenamiento, búsqueda, filtrado, clasificación, etc). Python permite agrupar información en tres tipos de datos que se muestran a continuación. **En particular harémos mayor énfasis en las listas**.\n",
    "\n",
    "* **Lista**\n",
    "\n",
    "    La lista es un tipo de colección ordenada. Una lista es equivalente a lo que en otros lenguajes se conoce por arrays, o vectores. Las listas pueden contener cualquier tipo de dato: números, cadenas, booleanos, y también listas. Para definir una lista se requiere agrupar los elementos en corchetes (`[]`). \n",
    "    \n",
    "    Ejemplo:\n",
    "    \n",
    "    `l = [22,True,\"hola mundo\",[1,2]]`\n",
    "    \n",
    "    Podemos acceder a cada uno de los elementos de la lista escribiendo el nombre de la lista e indicando el índice del elemento entre corchetes.\n",
    "    \n",
    "    Ejemplo:\n",
    "    \n",
    "    `l[0]`, retorna el primer elemento de la lista `l`, en este caso, `22`.  ¿Cómo obtengo el segúndo elemento de la lista `l` ?\n",
    "    \n",
    "    También es posible reemplazar un elemento de la lista\n",
    "    \n",
    "    Ejemplo:\n",
    "    \n",
    "    `l[1] = 30`, de esta forma la lista resultante `l` es `[]`.\n",
    "    \n",
    "    \n",
    "* **Tupla**\n",
    "\n",
    "    Una tupla presenta las mismas características y funcionalidades de una lista. Sin embargo, las tuplas se definen usando comas y parentesis `(,)`. Por otro lado, las tuplas, a diferencia de las listas son inmutables (no modificable).\n",
    "    \n",
    "    Ejemplo: definición de una tupla\n",
    "    \n",
    "    `t = (22,True,\"hola mundo\",[1,2])`\n",
    "    \n",
    "    Ejemplo: modificación de un valor en la tupla\n",
    "    \n",
    "    `t[0] = 1 # esto no es pertimitido`\n",
    "    \n",
    "\n",
    "* **Diccionario**\n",
    "\n",
    "    Los diccionarios, también llamados matrices asociativas, deben su nombre a que son colecciones que relacionan una clave y un valor.\n",
    "    \n",
    "    Ejemplo:\n",
    "    \n",
    "    ```\n",
    "\n",
    "    # Diccionario de películas y directores\n",
    "    peliculas = {\n",
    "          \"Love Actually\": \"Richard Curtis\",\n",
    "          \"Kill Bill\": \"Tarantino\",\n",
    "          \"Amélie\": \"Jean-Pierre Jeunet\"\n",
    "    }    \n",
    "    ```"
   ]
  },
  {
   "cell_type": "markdown",
   "metadata": {},
   "source": [
    "### Operadores en listas\n",
    "\n",
    "En el cuadro que se muestra a continuación se describen los operadores básicos disponibles en Python para la operación de listas.\n",
    "\n",
    "| Operador | Descripción | Ejemplo                         | \n",
    "|----------|-------------|---------------------------------|\n",
    "| +        | Unión       | [1,2] + [3,4]                   |\n",
    "| *        | Repetición  | ['Hola'] * 4                    |\n",
    "| []       | Indexación  | l = [1,'h',[1,2]] <br> l[0]     |\n",
    "| [i:j]    | Slicing     | l = [1,'h',[1,2]] <br> l[1:3]   |\n",
    "| [i:]     | Slicing     | l = [1,'h',[1,2]] <br> l[2:]    |\n",
    "| [:j]     | Slicing     | l = [1,'h',[1,2]] <br> l[:2]    |\n",
    "| len()    | Tamaño      | l = [1,'h',[1,2]] <br> len(l)   |\n",
    "| in       | Contenido   | l = [1,'h',[1,2]] <br> 'h' in l |"
   ]
  },
  {
   "cell_type": "markdown",
   "metadata": {},
   "source": [
    "> **TODO:**  Realice los ejemplos de los operadores de listas. Cree una nueva celda para cada ejemplo."
   ]
  },
  {
   "cell_type": "markdown",
   "metadata": {},
   "source": [
    "## 4. Condicionales\n",
    "\n",
    "___\n",
    "\n",
    "Los condicionales nos permiten comprobar condiciones y hacer que nuestro programa se comporte de una forma u otra, que ejecute un fragmento de código u otro, dependiendo del valor de verdad de la condición. A continuación se muestran ejemplos básicos de uso de los condicionales."
   ]
  },
  {
   "cell_type": "code",
   "execution_count": null,
   "metadata": {},
   "outputs": [],
   "source": [
    "# Cambie el valor de la variable número y ejecute la celda.\n",
    "# verifique el resultado de ejecutar el condicional\n",
    "\n",
    "# la función 'input' permite solicitar información al usuario\n",
    "# como la función retorna una cadena de texto, debermos \n",
    "# convertir el texto a número para que se pueda evaluar la \n",
    "# condición\n",
    "numero = int(input())\n",
    "\n",
    "if numero < 0:\n",
    "    print('Negativo')\n",
    "elif numero > 0:\n",
    "    print('Positivo')\n",
    "else:\n",
    "    print('Cero')"
   ]
  },
  {
   "cell_type": "markdown",
   "metadata": {},
   "source": [
    "> **TODO:** describe qué hace el siguiente fragmento de código"
   ]
  },
  {
   "cell_type": "code",
   "execution_count": null,
   "metadata": {},
   "outputs": [],
   "source": [
    "numero = int(input())\n",
    "\n",
    "if numero >= 0 and numero < 2:\n",
    "    print('Rango [0,2)')\n",
    "elif numero >= 2 and numero < 4:\n",
    "    print('Rango [2,4)')\n",
    "else:\n",
    "    print('El número no está en el rango definido')"
   ]
  },
  {
   "cell_type": "markdown",
   "metadata": {},
   "source": [
    "> **TODO**: ¿El siguiente fragmento de código hace lo mismo que el anterior?"
   ]
  },
  {
   "cell_type": "code",
   "execution_count": null,
   "metadata": {},
   "outputs": [],
   "source": [
    "numero = int(input())\n",
    "\n",
    "if numero in range(0,3):\n",
    "    print('Rango [0,2)')\n",
    "elif numero in range(2,5):\n",
    "    print('Rango [2,4)')\n",
    "else:\n",
    "    print('El número no está en el rango definido')"
   ]
  },
  {
   "cell_type": "markdown",
   "metadata": {},
   "source": [
    "## 5. Ciclos\n",
    "___\n",
    "\n",
    "Los ciclos o bucles nos permiten ejecutar un mismo fragmento de código un cierto número de veces, mientras se cumpla una determinada condición."
   ]
  },
  {
   "cell_type": "markdown",
   "metadata": {},
   "source": [
    "### while\n",
    "\n",
    "El bucle while (mientras) ejecuta un fragmento de código mientras se\n",
    "cumpla una condición."
   ]
  },
  {
   "cell_type": "code",
   "execution_count": null,
   "metadata": {},
   "outputs": [],
   "source": [
    "# La variable edad comienza valiendo 0\n",
    "edad = 0\n",
    "\n",
    "# Como la condición de que edad es menor que 18 es cierta (0 es menor que 18), \n",
    "# se entra en el bucle. Se aumenta edad en 1 y se imprime el mensaje informando \n",
    "# que el usuario ha cumplido un año. \n",
    "# El bucle termina cuando edad es igual a 18\n",
    "while edad < 18:\n",
    "    edad = edad + 1\n",
    "    print(\"Felicidades, tienes \" + str(edad))"
   ]
  },
  {
   "cell_type": "markdown",
   "metadata": {},
   "source": [
    "### for … in\n",
    "\n",
    "En Python `for` se utiliza como una forma genérica de iterar sobre una secuencia. Tanto listas, cadenas de texto y tuplas son secuencias."
   ]
  },
  {
   "cell_type": "code",
   "execution_count": null,
   "metadata": {},
   "outputs": [],
   "source": [
    "secuencia = [\"uno\", \"dos\", \"tres\"]\n",
    "for elemento in secuencia:\n",
    "    print(elemento)"
   ]
  },
  {
   "cell_type": "code",
   "execution_count": null,
   "metadata": {},
   "outputs": [],
   "source": [
    "secuencia = \"Hola mundo\"\n",
    "for elemento in secuencia:\n",
    "    print(elemento)"
   ]
  },
  {
   "cell_type": "markdown",
   "metadata": {},
   "source": [
    "## 6. Funciones\n",
    "___\n",
    "Una función es un fragmento de código con un nombre asociado que\n",
    "realiza una serie de tareas y devuelve un valor. En Python las funciones se declaran como se muestra a continuación."
   ]
  },
  {
   "cell_type": "code",
   "execution_count": null,
   "metadata": {},
   "outputs": [],
   "source": [
    "def mi_funcion(param1, param2):\n",
    "    \"\"\"\n",
    "    Esta funcion imprime los dos valores pasados como parametros.\n",
    "    \"\"\"\n",
    "    print(param1)\n",
    "    print(param2)"
   ]
  },
  {
   "cell_type": "code",
   "execution_count": null,
   "metadata": {},
   "outputs": [],
   "source": [
    "mi_funcion(\"hola\", 2)"
   ]
  },
  {
   "cell_type": "markdown",
   "metadata": {},
   "source": [
    "### Ejercicios definición de funciones y listas"
   ]
  },
  {
   "cell_type": "markdown",
   "metadata": {},
   "source": [
    "Define dos vectores usando el tipo de dato lista"
   ]
  },
  {
   "cell_type": "code",
   "execution_count": null,
   "metadata": {},
   "outputs": [],
   "source": [
    "# Definición de vectores usando listas\n",
    "vector_a = [1,2,3,4]\n",
    "vector_b = [1,2,3,4]\n",
    "\n",
    "# cada vector tiene 4 elementos.\n",
    "tam = 4 \n",
    "\n",
    "# Imprimo en pantalla el valor de los vectores\n",
    "print('vector a', vector_a)\n",
    "print('vector b', vector_b)"
   ]
  },
  {
   "cell_type": "markdown",
   "metadata": {},
   "source": [
    "> TODO: Completa el código mostrado a continuación. Define una función que permita sumar dos vectores y retorne el resultado de la suma. "
   ]
  },
  {
   "cell_type": "markdown",
   "metadata": {},
   "source": [
    "Un ejemplo de la suma de dos vetores es el siguientes: `[1,2,3,4] + [1,2,3,4] = [2,4,6,8]`."
   ]
  },
  {
   "cell_type": "code",
   "execution_count": null,
   "metadata": {},
   "outputs": [],
   "source": [
    "def sum_vect(a,b,tam):\n",
    "    \"\"\"\n",
    "    Suma dos vectores que tienen el mismo tamaño\n",
    "    \n",
    "    Args:\n",
    "        a (list): una lista de números.\n",
    "        b (list): una lista de números.\n",
    "        tam (int): indica el tamaño de los vetores (listas).\n",
    "        \n",
    "    Return (list) una lista de números que es el\n",
    "        resultado de sumar los valores en las listas \n",
    "        que tienen la misma posición.\n",
    "    \"\"\"\n",
    "    \n",
    "    resultado = []\n",
    "    for pos in range(tam):\n",
    "        # resultado = # TODO\n",
    "        pass\n",
    "    \n",
    "    return resultado"
   ]
  },
  {
   "cell_type": "markdown",
   "metadata": {},
   "source": [
    "> **TODO:** Ejecuta el código mostrado a continuación. Aplicación de la función `sum_vect` en los vectores `vector_a` y `vector_b`. Valida el resultado obtenido."
   ]
  },
  {
   "cell_type": "code",
   "execution_count": null,
   "metadata": {},
   "outputs": [],
   "source": [
    "sum_vect(vector_a,vector_b,tam)"
   ]
  },
  {
   "cell_type": "markdown",
   "metadata": {},
   "source": [
    "> **TODO:** Completa el códio mostrado a continuación. Define una función que permita multiplicar dos vectores y retorne el resultado de la multiplicación. Documente de forma apropiada la función. Puedes usar el ejemplo mostrado arriba como apoyo."
   ]
  },
  {
   "cell_type": "code",
   "execution_count": null,
   "metadata": {},
   "outputs": [],
   "source": [
    "def mult_vect(a,b,tam):\n",
    "    # TODO: documenta la función\n",
    "    \n",
    "    # TODO: define el código de la función\n",
    "    pass"
   ]
  },
  {
   "cell_type": "markdown",
   "metadata": {},
   "source": [
    "> **TODO:** Aplica la función `mult_vect` en los vectores `vector_a` y `vector_b`. Valida el resultado obtenido."
   ]
  },
  {
   "cell_type": "code",
   "execution_count": null,
   "metadata": {},
   "outputs": [],
   "source": [
    "# TODO: aplica la función mult_vect"
   ]
  },
  {
   "cell_type": "markdown",
   "metadata": {},
   "source": [
    "Define dos matrices usando el tipo de dato lista"
   ]
  },
  {
   "cell_type": "code",
   "execution_count": null,
   "metadata": {},
   "outputs": [],
   "source": [
    "# Definición de matrices usando listas\n",
    "matriz_a = [\n",
    "    [1,2,3],\n",
    "    [4,5,6],\n",
    "    [7,8,9],\n",
    "] \n",
    "\n",
    "matriz_b = [\n",
    "    [1,2,3],\n",
    "    [4,5,6],\n",
    "    [7,8,9],\n",
    "]\n",
    "\n",
    "# Las matrices tienen las mismas dimensiones tam*tam\n",
    "tam = 3\n",
    "\n",
    "# Imprimo en pantalla el valor de los vectores\n",
    "print('matriz a', matriz_a)\n",
    "print('matriz b', matriz_b)"
   ]
  },
  {
   "cell_type": "markdown",
   "metadata": {},
   "source": [
    "> **TODO:** Completa el coigo mostrado a continuación. Define una función que permita sumar dos matrices"
   ]
  },
  {
   "cell_type": "code",
   "execution_count": null,
   "metadata": {},
   "outputs": [],
   "source": [
    "def sum_mat(a,b,tam):\n",
    "    \"\"\"\n",
    "    Suma dos matrices cuadradas y de iguál dimensión.\n",
    "    \n",
    "    Args:\n",
    "        a (list): una lista de listas de números.\n",
    "        b (list): una lista de listas de números.\n",
    "        resultado ()\n",
    "        tam (int): indica las dimensiones de las matrices.\n",
    "    \"\"\"\n",
    "    # Crea una matrix cuadrada de ceros con las dimensiones definidas por 'tam'\n",
    "    resultado = [[0 for i in range(tam)] for j in range(tam)]\n",
    "    \n",
    "    for fila in range(tam):\n",
    "        for columna in range(tam):\n",
    "            # resultado[fila][columna] = # TODO\n",
    "            pass\n",
    "\n",
    "    return resultado"
   ]
  },
  {
   "cell_type": "markdown",
   "metadata": {},
   "source": [
    "> **TODO:** Ejecute el código mostrado a continuación. Aplica la función `sum_mat` en las matrices `matriz_a` y `matriz_b`. Valida el resultado obtenido."
   ]
  },
  {
   "cell_type": "code",
   "execution_count": null,
   "metadata": {},
   "outputs": [],
   "source": [
    "sum_mat(matriz_a,matriz_b,tam)"
   ]
  },
  {
   "cell_type": "markdown",
   "metadata": {},
   "source": [
    "> **TODO:** Define una función que permita multiplicar dos matrices (*matrix element wise multiplication*) y retorne el resultado de la multiplicación. Documente de forma apropiada la función."
   ]
  },
  {
   "cell_type": "code",
   "execution_count": null,
   "metadata": {},
   "outputs": [],
   "source": [
    "def mult_mat(a,b,tam):\n",
    "    # TODO: documenta la función\n",
    "    \n",
    "    # TODO: define el código de la función\n",
    "    pass"
   ]
  },
  {
   "cell_type": "markdown",
   "metadata": {},
   "source": [
    "## 7. Módulos\n",
    "\n",
    "___\n",
    "\n",
    "Un módulo o libreria de Python encapsula una serie de funciones y utilidades que cumplen con un propósito particular. Por ende éstas funcionalidades y utilizades están optimizadas para dicho propósito particular. Podemos encontrar módulos para tareas en ciencia de datos (`pandas`), módulos para cálculo númerico con vectores y matrices (`numpy`), procesamiento de lenguaje natural (`nltk`), inteligenica artificial (`sklearn`), entre otros."
   ]
  },
  {
   "cell_type": "markdown",
   "metadata": {},
   "source": [
    "Para importar un módulo se usa la palabra clave `import` seguido del nombre del módulo a importar."
   ]
  },
  {
   "cell_type": "code",
   "execution_count": null,
   "metadata": {},
   "outputs": [],
   "source": [
    "import numpy"
   ]
  },
  {
   "cell_type": "markdown",
   "metadata": {},
   "source": [
    "Usemos el módulo numpy, especializado en cálculo numérico."
   ]
  },
  {
   "cell_type": "code",
   "execution_count": null,
   "metadata": {},
   "outputs": [],
   "source": [
    "# Definición de matrices usando la librería numpy\n",
    "matriz_a = numpy.array([\n",
    "    [1,2,3],\n",
    "    [4,5,6],\n",
    "    [7,8,9],\n",
    "]) \n",
    "\n",
    "matriz_b = numpy.array([\n",
    "    [1,2,3],\n",
    "    [4,5,6],\n",
    "    [7,8,9],\n",
    "])\n",
    "\n",
    "\n",
    "print('matriz a', matriz_a)\n",
    "print('matriz b', matriz_b)"
   ]
  },
  {
   "cell_type": "markdown",
   "metadata": {},
   "source": [
    "Suma de matrices usando la librería numpy"
   ]
  },
  {
   "cell_type": "code",
   "execution_count": null,
   "metadata": {},
   "outputs": [],
   "source": [
    "matriz_a + matriz_b"
   ]
  },
  {
   "cell_type": "markdown",
   "metadata": {},
   "source": [
    "Multiplicación de matrices usando la librería numpy"
   ]
  },
  {
   "cell_type": "code",
   "execution_count": null,
   "metadata": {},
   "outputs": [],
   "source": [
    "matriz_a * matriz_b"
   ]
  }
 ],
 "metadata": {
  "kernelspec": {
   "display_name": "Python 3",
   "language": "python",
   "name": "python3"
  },
  "language_info": {
   "codemirror_mode": {
    "name": "ipython",
    "version": 3
   },
   "file_extension": ".py",
   "mimetype": "text/x-python",
   "name": "python",
   "nbconvert_exporter": "python",
   "pygments_lexer": "ipython3",
   "version": "3.8.5"
  }
 },
 "nbformat": 4,
 "nbformat_minor": 4
}

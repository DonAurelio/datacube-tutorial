{
 "cells": [
  {
   "cell_type": "markdown",
   "metadata": {},
   "source": [
    "<img src=\"img/banner.png\" alt=\"Deparatemento de Ingeniería de Sistemas y Computación, Universidad de los Andes\">"
   ]
  },
  {
   "cell_type": "markdown",
   "metadata": {},
   "source": [
    "# Sentinel 2 - Indexar una Imágen\n",
    "\n",
    "**Introducción**\n",
    "\n",
    "La indexación de imágenes consiste en (1) incarle al cubo de datos dónde tenemos imágenes de un sensor determinado en nuestro sistema de archivos, (2) entregarle al cubo de datos los **metadatos específicos** de la imágen para que este pueda facilitar el proceso de búsqueda, en este proceso también (3) se asocia cada imágen de interés al producto de Sentinel 2 que ya hemos definido con anterioridad.\n",
    "\n",
    "**Objetivo**\n",
    "\n",
    "En esta sección indexaremos una imágene del sensor Sentinel 2 en el cubo de datos. Al finalizar verificaremos si la imagen fue indexada correctamente. Podrá repetir el mismo procedimiento para indexar una segúnda imágen.\n",
    "\n",
    "**Contenido**\n",
    "\n",
    "1. Descargar imágenes Sentinel 2\n",
    "2. Descomprimir las imagenes\n",
    "3. Generar los metadatos de la imágen\n",
    "4. Adicionar la imágen al índice de imágenes del cubo de datos"
   ]
  },
  {
   "cell_type": "markdown",
   "metadata": {},
   "source": [
    "## 1. Descargar imágenes Sentinel 2\n",
    "\n",
    "___"
   ]
  },
  {
   "cell_type": "markdown",
   "metadata": {},
   "source": [
    "Hasta este punto debría tener 2 imágenes Sentinel 2 descargadas en su computador. Si no es el caso, puede descargar las imágenes [aquí](https://drive.google.com/drive/folders/1eNWlKCcia3FsnhFA7k61m3pnkFp3OiF6?usp=sharing). Para mantener nuestras imágenes organizadas, las pondrémos en el siguiente directorio `/vagrant/indexed_storage/S2_MSI_L2A/`."
   ]
  },
  {
   "cell_type": "markdown",
   "metadata": {},
   "source": [
    "## 2. Descomprimir las imagenes\n",
    "\n",
    "___"
   ]
  },
  {
   "cell_type": "markdown",
   "metadata": {},
   "source": [
    "Verifique con el comando que se muestra a continaución que las images que descargó anteriormente esten en el directorio `/vagrant/indexed_storage/S2_MSI_L2A/`. Deberá obtener una salida similar a la que se muestra a continaución. Donde se muestran los archivos comprimidos de las imágenes. \n",
    "\n",
    "```sh\n",
    "S2A_MSIL2A_20210130T151701_N0214_R125_T18NYM_20210130T174015.zip\n",
    "S2B_MSIL2A_20210115T151709_N0214_R125_T18NYM_20210115T174459.zip\n",
    "sen2cor_ard.yaml\n",
    "sen2cor_prepare.py\n",
    "```"
   ]
  },
  {
   "cell_type": "code",
   "execution_count": null,
   "metadata": {},
   "outputs": [],
   "source": [
    "!ls /vagrant/indexed_storage/S2_MSI_L2A"
   ]
  },
  {
   "cell_type": "markdown",
   "metadata": {},
   "source": [
    "Seleccione uno de los archivos `.zip` que ha descargado y configure la variable `image_file_name` con el identificador de imagen como se muestra en el siguiente ejemplo."
   ]
  },
  {
   "cell_type": "code",
   "execution_count": null,
   "metadata": {},
   "outputs": [],
   "source": [
    "# Set image_file_name with the image identifier (do not use the .zip extension)\n",
    "image_file_name = 'S2B_MSIL2A_20210115T151709_N0214_R125_T18NYM_20210115T174459'"
   ]
  },
  {
   "cell_type": "markdown",
   "metadata": {},
   "source": [
    "**Use el siguiente comando para descomprimir la imagen seleccionada en el directorio `/vagrant/indexed_storage/S2_MSI_L2A/`**"
   ]
  },
  {
   "cell_type": "code",
   "execution_count": null,
   "metadata": {},
   "outputs": [],
   "source": [
    "image_zip_path = f'/vagrant/indexed_storage/S2_MSI_L2A/{image_file_name}.zip'\n",
    "image_dst_path = '/vagrant/indexed_storage/S2_MSI_L2A/'\n",
    "\n",
    "!unzip -q -o $image_zip_path -d $image_dst_path"
   ]
  },
  {
   "cell_type": "markdown",
   "metadata": {},
   "source": [
    "Use el siguiente comando para validar que la imágen a sido descomprimida. La imagen descomprimida quedará en una carpeta con sufijo `.SAFE`, que va presedido por el identificador de la imagen."
   ]
  },
  {
   "cell_type": "code",
   "execution_count": null,
   "metadata": {},
   "outputs": [],
   "source": [
    "!ls /vagrant/indexed_storage/S2_MSI_L2A"
   ]
  },
  {
   "cell_type": "markdown",
   "metadata": {},
   "source": [
    "## 3. Generar los metadatos de la imagen\n",
    "\n",
    "___"
   ]
  },
  {
   "cell_type": "markdown",
   "metadata": {},
   "source": [
    "Las imágenes que descargamos de diferentes plataformas como Copernicus o USGS Earth Explorer tienen archivos de metadatos específicos de las imágenes descargadas, pero estos metadatos no fueron generados para ser usados por herramientas como el cubo de datos. Es por ello que se requiere generar un archivo de metadatos adicional por imagen que pueda ser interpretatos por el cubo de datos. Para lo anterior, la comunidad que soporta el desarrollo del cubo de datos ha desarrollado scrips de generación de metadatos (también llamados scripts de preparación de metadatos) para generar los metadatos de imágenes de distintos sensores como Sentinel, Landsat, entre otros. \n",
    "\n",
    "En particular, usarémos el script de generación de metadatos para imágenes de Sentinel 2 que se encuentra disponible en el presente ambiente de desarrollo del cubo de datos, `/vagrant/indexed_storage/S2_MSI_L2A/sen2cor_prepare.py`.\n",
    "\n",
    "Ejecute el siguiente comando para generar los metadatos de la imágen descomprimida anteriormente.\n",
    "\n",
    "**Referencia:** Este script fue tomado de [aquí](https://github.com/dfnino10/ODC_Sentinel)"
   ]
  },
  {
   "cell_type": "code",
   "execution_count": null,
   "metadata": {},
   "outputs": [],
   "source": [
    "# Path to the metadata generation script for sentinel 2 images\n",
    "metadata_prepare_script_file_path = '/vagrant/indexed_storage/S2_MSI_L2A/sen2cor_prepare.py'\n",
    "# Path to the unziped image\n",
    "unziped_image_path = f'/vagrant/indexed_storage/S2_MSI_L2A/{image_file_name}.SAFE'\n",
    "metadata_dst_file_path = f'/vagrant/indexed_storage/S2_MSI_L2A/{image_file_name}.SAFE'\n",
    "\n",
    "# Execute the metadata generation script\n",
    "!python3 $metadata_prepare_script_file_path  $unziped_image_path --output $metadata_dst_file_path"
   ]
  },
  {
   "cell_type": "markdown",
   "metadata": {},
   "source": [
    "Compruebe con el siguiente comando si el archivo de metadatos **.SAFE.yaml** se generó para la imágen descomprimida"
   ]
  },
  {
   "cell_type": "code",
   "execution_count": null,
   "metadata": {},
   "outputs": [],
   "source": [
    "!ls -l $unziped_image_path"
   ]
  },
  {
   "cell_type": "markdown",
   "metadata": {},
   "source": [
    "Use el siguiente comando para ver los metadatos generados para la imagen descomprimida. Note que los metadatos contienen información especifica de cada imágen como la fecha en que fué capturada `datetime: '2021-01-15T17:44:59.000000Z'`, la ruta donde se encuentran las imágenes de las bandas en el sistema de archivos, entre otros. Finalmente, en los metadatos generados el script indica de forma explicita a qué producto del cubo de datos será asociada la imagen.\n",
    "\n",
    "```sh\n",
    "product:\n",
    "  name: s2_sen2cor_ard_granule_EO3\n",
    "```\n",
    "\n",
    "Por supuesto, un producto con el identificador `s2_sen2cor_ard_granule_EO3` debe haber sido creado con anterioridad."
   ]
  },
  {
   "cell_type": "code",
   "execution_count": null,
   "metadata": {},
   "outputs": [],
   "source": [
    "# Path to the image generated metadata\n",
    "image_metadata_file_path = f'/vagrant/indexed_storage/S2_MSI_L2A/{image_file_name}.SAFE/{image_file_name}.SAFE.yaml'\n",
    "\n",
    "!cat $image_metadata_file_path"
   ]
  },
  {
   "cell_type": "markdown",
   "metadata": {},
   "source": [
    "## 4. Adicionar la imágen al índice de imágenes del cubo de datos\n",
    "\n",
    "___"
   ]
  },
  {
   "cell_type": "markdown",
   "metadata": {},
   "source": [
    "En este punto la imágen que hemos descomprimido y a la cual hemos generado los metadatos está lista para se indexada en el cubo de datos. Para indexar una imagen en el cubo de datos lo úncio que debemos hacer es entregar al cubo de datos el archivo de metadatos de la imagen, que fue generado en el paso anterior.\n",
    "\n",
    "El comando para indexar una imagen en el cubo de datos tiene el siguiente formato:\n",
    "\n",
    "`datacube dataset add <image_metadata_file>.yaml`\n",
    "\n",
    "El comando anterior se encarga de tomar los metadatos específicos de la imagen y los ingresa en la base de datos del cubo de datos. De esta forma, el cubo de datos facilita la búsqueda de imágenes.\n",
    "\n",
    "Use el comando que está a continuación para indexar la imagen en el cubo de datos."
   ]
  },
  {
   "cell_type": "code",
   "execution_count": null,
   "metadata": {},
   "outputs": [],
   "source": [
    "image_metadata_file_path = f'/vagrant/indexed_storage/S2_MSI_L2A/{image_file_name}.SAFE/{image_file_name}.SAFE.yaml'\n",
    "\n",
    "!datacube dataset add $image_metadata_file_path"
   ]
  },
  {
   "cell_type": "markdown",
   "metadata": {},
   "source": [
    "Use el siguiente comando para compruebar que se ha indexado la imagen correctamente. Note que el cubo de datos muestra los metadatos obtenidos de la imagen. "
   ]
  },
  {
   "cell_type": "code",
   "execution_count": null,
   "metadata": {},
   "outputs": [],
   "source": [
    "!datacube dataset search"
   ]
  },
  {
   "cell_type": "markdown",
   "metadata": {},
   "source": [
    "### References\n",
    "\n",
    "1. [Indexing Data](https://datacube-core.readthedocs.io/en/latest/ops/indexing.html#indexing-data)"
   ]
  }
 ],
 "metadata": {
  "kernelspec": {
   "display_name": "Python 3",
   "language": "python",
   "name": "python3"
  },
  "language_info": {
   "codemirror_mode": {
    "name": "ipython",
    "version": 3
   },
   "file_extension": ".py",
   "mimetype": "text/x-python",
   "name": "python",
   "nbconvert_exporter": "python",
   "pygments_lexer": "ipython3",
   "version": "3.8.5"
  }
 },
 "nbformat": 4,
 "nbformat_minor": 4
}

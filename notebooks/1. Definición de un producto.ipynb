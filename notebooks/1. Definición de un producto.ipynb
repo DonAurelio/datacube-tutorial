{
 "cells": [
  {
   "cell_type": "markdown",
   "metadata": {},
   "source": [
    "<img src=\"img/banner.png\" alt=\"Deparatemento de Ingeniería de Sistemas y Computación, Universidad de los Andes\">"
   ]
  },
  {
   "cell_type": "markdown",
   "metadata": {},
   "source": [
    "# Sentinel 2 - Definición de producto\n",
    "\n",
    "#### Introducción\n",
    "\n",
    "El cubo de datos requiere conocer las **propiedades generales** (por ejemplo: las bandas espectrales) de las escenas producidas por el sensor remoto de interés. La forma de indicarle al cubo de datos que deseamos ingresar imágenes de un sensor determinado es mediante la creación de un **producto**. Para crear un producto en el cubo de datos se requiere un `Archivo de Definición de Producto`, este archivo es especifico para cada sensor, y por lo general son desarrollados por la comunidad y el equipo que soporta el desarrollo del cubo de datos. En el siguiente [enlace](https://github.com/opendatacube/datacube-dataset-config/tree/master/config_samples/dataset_types) podras ver ejemplos de archivos de definición de producto para sensores como Landsat, MODIS, DEM entre otros. \n",
    "\n",
    "**Objetivo**\n",
    "\n",
    "En el presente notebook usaremos el archivo de definición de producto para Sentinel 2 para definir un producto en el cubo de datos. El archivo de definición de producto ya está cargado en este ambiente de desarrollo.\n",
    "\n",
    "**Contenido**\n",
    "\n",
    "1. Archivo de definición de producto para Sentinel 2.\n",
    "2. Definición de producto"
   ]
  },
  {
   "cell_type": "markdown",
   "metadata": {},
   "source": [
    "### 1. Archivo de definición de producto para Sentinel 2\n",
    "\n",
    "___\n",
    "\n",
    "El archivo de definición de producto para Sentinel 2 empleado en el presente notebook se muestra a continación. Note que el archivo contiene **información general** como el nombre o identificador que se le asignará al producto (`name: s2_sen2cor_ard_granule_EO3`), información espectral o bandas (`measurements`).\n",
    "\n",
    "**Referencia:** Este archivo fue tomado de [aquí](https://github.com/dfnino10/ODC_Sentinel)"
   ]
  },
  {
   "cell_type": "code",
   "execution_count": null,
   "metadata": {},
   "outputs": [],
   "source": [
    "!cat /vagrant/indexed_storage/S2_MSI_L2A/sen2cor_ard.yaml"
   ]
  },
  {
   "cell_type": "markdown",
   "metadata": {},
   "source": [
    "### 2. Definición de Producto\n",
    "___\n",
    "\n",
    "Compruebe si ya hay productos definidos en el cubo de datos usando el comando que se muestra a continaución. Por supuesto, aún no se ha definido productos, por lo que el siguiente comando no mostrará información."
   ]
  },
  {
   "cell_type": "code",
   "execution_count": null,
   "metadata": {},
   "outputs": [],
   "source": [
    "!datacube product list"
   ]
  },
  {
   "cell_type": "markdown",
   "metadata": {},
   "source": [
    "Utilice el **archivo de definición de producto** ubicado en `/ vagrant / indexed_storage / S2_MSI_L2A / sen2cor_ard.yaml` para definir el producto Sentinel 2."
   ]
  },
  {
   "cell_type": "code",
   "execution_count": null,
   "metadata": {},
   "outputs": [],
   "source": [
    "!datacube product add /vagrant/indexed_storage/S2_MSI_L2A/sen2cor_ard.yaml"
   ]
  },
  {
   "cell_type": "markdown",
   "metadata": {},
   "source": [
    "Lista los **productos** definidos en el cubo de datos. Podrá observar que ya se ha definido el producto para Sentinel 2 cuyo identificador es `s2_sen2cor_ard_granule_EO3`, recuerde este identificador porque lo usaremos más adelante para consultar imágenes de este sensor."
   ]
  },
  {
   "cell_type": "code",
   "execution_count": null,
   "metadata": {},
   "outputs": [],
   "source": [
    "!datacube product list"
   ]
  },
  {
   "cell_type": "markdown",
   "metadata": {},
   "source": [
    "Remmeber the `s2_sen2cor_ard_granule_EO3` since this is the identifier of the Sentinel 2 product.This identifier is defined in the product definition file `/vagrant/indexed_storage/S2_MSI_L2A/sen2cor_ard.yaml`."
   ]
  },
  {
   "cell_type": "markdown",
   "metadata": {},
   "source": [
    "### Referencias\n",
    "\n",
    "1. [Open Data Cube Product](https://datacube-core.readthedocs.io/en/latest/architecture/data_model.html#product)"
   ]
  }
 ],
 "metadata": {
  "kernelspec": {
   "display_name": "Python 3",
   "language": "python",
   "name": "python3"
  },
  "language_info": {
   "codemirror_mode": {
    "name": "ipython",
    "version": 3
   },
   "file_extension": ".py",
   "mimetype": "text/x-python",
   "name": "python",
   "nbconvert_exporter": "python",
   "pygments_lexer": "ipython3",
   "version": "3.8.5"
  }
 },
 "nbformat": 4,
 "nbformat_minor": 4
}
